{
 "cells": [
  {
   "cell_type": "markdown",
   "id": "80829709",
   "metadata": {},
   "source": [
    "### *Python Fundamentals & Data Structures*\n",
    "📚 **Topics:**\n",
    "- Variables, data types (int, float, string, boolean)\n",
    "- Conditional statements (`if-else`, `elif`)\n",
    "- Loops (`for`, `while`)\n",
    "- Functions (parameters, return statements)\n",
    "- Lists, tuples, sets, dictionaries\n",
    "- List/dict comprehensions"
   ]
  },
  {
   "cell_type": "code",
   "execution_count": 12,
   "id": "e04f0ad3",
   "metadata": {},
   "outputs": [
    {
     "name": "stdout",
     "output_type": "stream",
     "text": [
      "<class 'float'>\n",
      "----------------------------\n",
      "alpha\n",
      "beta\n",
      "charlie\n",
      "----------------------------\n",
      "alphabets\n",
      "alphabets\n",
      "alphabets\n",
      "----------------------------\n",
      "jake\n",
      "amy\n",
      "raymond\n"
     ]
    }
   ],
   "source": [
    "variable1 = 5.08\n",
    "print(type(variable1))\n",
    "print(\"----------------------------\")\n",
    "#assigning multiple values\n",
    "a, b, c = 'alpha', 'beta', 'charlie'\n",
    "print(a)\n",
    "print(b)\n",
    "print(c)\n",
    "print(\"----------------------------\")\n",
    "#assigning one value\n",
    "x = y = z = 'alphabets'\n",
    "print(x)\n",
    "print(y)\n",
    "print(z)\n",
    "print(\"----------------------------\")\n",
    "#unpacking\n",
    "brooklyn_data = ['jake', 'amy', 'raymond']\n",
    "var1, var2, var3 = brooklyn_data\n",
    "print(var1)\n",
    "print(var2)\n",
    "print(var3)"
   ]
  },
  {
   "cell_type": "code",
   "execution_count": 21,
   "id": "bb6a9a8a",
   "metadata": {},
   "outputs": [
    {
     "name": "stdout",
     "output_type": "stream",
     "text": [
      "Enter a number5\n",
      "Hello\n"
     ]
    }
   ],
   "source": [
    "def check(entry):\n",
    "    if entry % 5 == 0:\n",
    "        print(\"Hello\")\n",
    "    else:\n",
    "        print(\"Bye\")\n",
    "        \n",
    "entry = int(input(\"Enter a number\"))\n",
    "check(entry)"
   ]
  },
  {
   "cell_type": "code",
   "execution_count": 24,
   "id": "054b90c6",
   "metadata": {},
   "outputs": [
    {
     "name": "stdout",
     "output_type": "stream",
     "text": [
      "Enter your electricity cost price: 500\n",
      "Tax to be paid:  25.0\n"
     ]
    }
   ],
   "source": [
    "tax = 0\n",
    "def tax_price(entry):\n",
    "    if entry <= 50000:\n",
    "        tax = 5/100*entry\n",
    "    elif entry > 50000 and entry <= 100000:\n",
    "        tax = 10/100*entry\n",
    "    elif entry > 100000:\n",
    "        tax = 15/100*entry\n",
    "        \n",
    "    print(\"Tax to be paid: \", tax)\n",
    "    \n",
    "result = int(input(\"Enter your electricity cost price: \"))\n",
    "tax_price(result)"
   ]
  },
  {
   "cell_type": "code",
   "execution_count": 50,
   "id": "b707435e",
   "metadata": {},
   "outputs": [
    {
     "name": "stdout",
     "output_type": "stream",
     "text": [
      "Not a leap year\n"
     ]
    }
   ],
   "source": [
    "def check_leap_year(year):\n",
    "    if year % 100 == 0:\n",
    "        if year % 400 == 0:\n",
    "            print(\"Leap year\")\n",
    "        else:\n",
    "            print(\"Not a leap year\")\n",
    "    elif year % 4 == 0:\n",
    "        print(\"Leap year\")\n",
    "    else:\n",
    "        print(\"Not a leap year\")\n",
    "        \n",
    "check_leap_year(1700)"
   ]
  },
  {
   "cell_type": "code",
   "execution_count": 40,
   "id": "29bf7f7c",
   "metadata": {},
   "outputs": [
    {
     "name": "stdout",
     "output_type": "stream",
     "text": [
      "Enter a passwordnaukr\n",
      "Invalid Password\n"
     ]
    }
   ],
   "source": [
    "chars = [\"@\", \"#\", \"!\", \"^\", \"&\", \"*\", \"_\"]\n",
    "has_valid_length = False\n",
    "has_lowercase= False\n",
    "has_uppercase = False\n",
    "has_digits = False\n",
    "has_specialchars = False\n",
    "\n",
    "password = input(\"Enter a password\")\n",
    "\n",
    "if len(password) > 8 and len(password) <= 16:\n",
    "    has_valid_length = True\n",
    "    \n",
    "    for i in password:\n",
    "        if (i.islower()):\n",
    "            has_lowercase = True\n",
    "        \n",
    "        if (i.isupper()):\n",
    "            has_uppercase = True\n",
    "            \n",
    "        if (i.isdigit()):\n",
    "            has_digits = True\n",
    "            \n",
    "        if i in chars:\n",
    "            has_specialchars = True\n",
    "            \n",
    "if (has_valid_length == True and has_lowercase == True and has_uppercase == True and has_digits == True and has_specialchars == True):\n",
    "    print(\"Valid Password\")\n",
    "else:\n",
    "    print(\"Invalid Password\")\n",
    "        "
   ]
  },
  {
   "cell_type": "code",
   "execution_count": 47,
   "id": "642c01b1",
   "metadata": {},
   "outputs": [
    {
     "name": "stdout",
     "output_type": "stream",
     "text": [
      "9\n",
      "4\n"
     ]
    }
   ],
   "source": [
    "var = 'rays784127894'\n",
    "count_of_numbers = 0\n",
    "count_of_alphabets = 0\n",
    "for i in var:\n",
    "    if (i.isdigit()):\n",
    "        count_of_numbers += 1\n",
    "    if (i.isalpha()):\n",
    "        count_of_alphabets += 1\n",
    "\n",
    "print(count_of_numbers)\n",
    "print(count_of_alphabets)"
   ]
  },
  {
   "cell_type": "code",
   "execution_count": 53,
   "id": "5fe9fc9e",
   "metadata": {},
   "outputs": [
    {
     "name": "stdout",
     "output_type": "stream",
     "text": [
      "120\n"
     ]
    }
   ],
   "source": [
    "num = 5\n",
    "fact = 1\n",
    "for i in range(1, num + 1):\n",
    "    fact = fact * i\n",
    "print(fact)"
   ]
  },
  {
   "cell_type": "code",
   "execution_count": 19,
   "id": "9d9db671",
   "metadata": {},
   "outputs": [
    {
     "name": "stdout",
     "output_type": "stream",
     "text": [
      "Not a prime number\n"
     ]
    }
   ],
   "source": [
    "num = 8\n",
    "is_prime = True\n",
    "if num <= 1:\n",
    "    is_prime = False\n",
    "for i in range(2, int(num ** 0.5) + 1):\n",
    "    if num % i == 0:\n",
    "        is_prime = False\n",
    "        break\n",
    "if is_prime:\n",
    "    print(\"Prime number\")\n",
    "else:\n",
    "    print(\"Not a prime number\")"
   ]
  },
  {
   "cell_type": "code",
   "execution_count": 13,
   "id": "add8e00d",
   "metadata": {},
   "outputs": [
    {
     "name": "stdout",
     "output_type": "stream",
     "text": [
      "d3ro@W_oll!H\n"
     ]
    }
   ],
   "source": [
    "string = \"H3ll@o_Wor!d\"\n",
    "s = list(string)\n",
    "left, right = 0, len(s) - 1\n",
    "for _ in range(len(s)):\n",
    "    while left < right and not s[left].isalpha():\n",
    "        left += 1\n",
    "    while left < right and not s[right].isalpha():\n",
    "        right -= 1\n",
    "        \n",
    "    if left < right:\n",
    "        s[left], s[right] = s[right], s[left]\n",
    "        left += 1\n",
    "        right -= 1\n",
    "\n",
    "print(\"\".join(s))"
   ]
  },
  {
   "cell_type": "code",
   "execution_count": 5,
   "id": "eb290343",
   "metadata": {},
   "outputs": [
    {
     "name": "stdout",
     "output_type": "stream",
     "text": [
      "Enter a number between 100 and 500: 480\n",
      "480\n"
     ]
    }
   ],
   "source": [
    "number = int(input(\"Enter a number between 100 and 500: \"))\n",
    "\n",
    "while number >= 100 and number <= 500:\n",
    "    print(number)\n",
    "    break\n",
    "else:\n",
    "    print(\"Incorrect entry\")"
   ]
  },
  {
   "cell_type": "code",
   "execution_count": 1,
   "id": "12080f88",
   "metadata": {},
   "outputs": [
    {
     "name": "stdout",
     "output_type": "stream",
     "text": [
      "3\n",
      "3 its an odd number\n",
      "2 its an even number\n",
      "1 its an odd number\n"
     ]
    }
   ],
   "source": [
    "n = int(input())\n",
    "\n",
    "while n > 0:\n",
    "    if n % 2 == 0:\n",
    "        print(n, 'its an even number')\n",
    "    else:\n",
    "        print(n, \"its an odd number\")\n",
    "    n = n - 1"
   ]
  },
  {
   "cell_type": "code",
   "execution_count": 13,
   "id": "fdfc04bc",
   "metadata": {},
   "outputs": [
    {
     "name": "stdout",
     "output_type": "stream",
     "text": [
      "r o s e s "
     ]
    }
   ],
   "source": [
    "variable = \"roses21\"\n",
    "i = 0\n",
    "while i < len(variable):\n",
    "    if variable[i].isdecimal():\n",
    "        break\n",
    "    print(variable[i], end=' ')\n",
    "    i += 1"
   ]
  },
  {
   "cell_type": "code",
   "execution_count": 2,
   "id": "ccd2f265",
   "metadata": {},
   "outputs": [
    {
     "name": "stdout",
     "output_type": "stream",
     "text": [
      "r o s e d a y "
     ]
    }
   ],
   "source": [
    "variable = \"rose@12day###\"\n",
    "i = 0\n",
    "while i < len(variable):\n",
    "    if variable[i].isalpha():\n",
    "        print(variable[i], end=\" \")\n",
    "    i += 1"
   ]
  },
  {
   "cell_type": "code",
   "execution_count": 16,
   "id": "bf868514",
   "metadata": {},
   "outputs": [
    {
     "name": "stdout",
     "output_type": "stream",
     "text": [
      "6\n"
     ]
    }
   ],
   "source": [
    "#Find the sum of the series up to n terms\n",
    "n = 3\n",
    "i = 0\n",
    "result = 0\n",
    "while i <= n:\n",
    "    result += i\n",
    "    i += 1\n",
    "print(result)"
   ]
  },
  {
   "cell_type": "code",
   "execution_count": 11,
   "id": "ac13147e",
   "metadata": {
    "scrolled": true
   },
   "outputs": [
    {
     "name": "stdout",
     "output_type": "stream",
     "text": [
      "1\n",
      "2\n",
      "3\n",
      "4\n",
      "5\n",
      "6\n",
      "7\n",
      "8\n",
      "9\n",
      "10\n",
      "-----------------------\n",
      "5\n"
     ]
    }
   ],
   "source": [
    "#Print first 10 natural numbers using while loop\n",
    "i = 1\n",
    "while i <= 10:\n",
    "    print(i)\n",
    "    i = i+1\n",
    "print(\"-----------------------\")    \n",
    "#Count the total number of digits in a number\n",
    "num = 45876\n",
    "counter = 0\n",
    "while num > 0:\n",
    "    num = num // 10\n",
    "    counter += 1\n",
    "print(counter)"
   ]
  },
  {
   "cell_type": "code",
   "execution_count": 19,
   "id": "f0e0d7ab",
   "metadata": {
    "scrolled": true
   },
   "outputs": [
    {
     "name": "stdout",
     "output_type": "stream",
     "text": [
      "24\n",
      "9875\n",
      "-------------------\n",
      "15\n",
      "-------------------\n",
      "{'S': 1, 'A': 2, 'R': 4, 'H': 1}\n",
      "-------------------\n",
      "60\n",
      "-------------------\n",
      "year new Happy\n"
     ]
    }
   ],
   "source": [
    "#Find the largest item from a given list\n",
    "def find_largest(lst):\n",
    "    return max(lst)\n",
    "\n",
    "print(find_largest([4, 6, 8, 24, 12, 2]))\n",
    "\n",
    "#assign new name to function\n",
    "find_max = find_largest\n",
    "print(find_max([1547, 7859, 6541, 9875, 1365]))\n",
    "print(\"-------------------\")\n",
    "\n",
    "#Create an inner function to calculate the addition in the following way\n",
    "def outer_func(a, b):\n",
    "    def inner_func(a, b):\n",
    "        return a + b\n",
    "    addition = inner_func(a,b)\n",
    "    return addition + 5\n",
    "\n",
    "print(outer_func(5,5))\n",
    "print(\"-------------------\")\n",
    "#Create a function that takes a string and returns a dictionary with the count of each character in the string.\n",
    "def string_count(string):\n",
    "    string = string.upper()\n",
    "    dictt = {}\n",
    "    for i in string:\n",
    "        dictt[i] = dictt.get(i, 0) + 1\n",
    "    return dictt\n",
    "print(string_count(\"sarrrrah\"))\n",
    "print(\"-------------------\")\n",
    "\n",
    "#Write a function that takes a list of numbers and returns the second largest number without using built-in sorting functions.\n",
    "def second_max(lst):\n",
    "    first_largest = float('-inf')\n",
    "    second_largest = float('-inf')\n",
    "    for i in lst:\n",
    "        if i > first_largest:\n",
    "            second_largest = first_largest\n",
    "            first_largest = i\n",
    "            \n",
    "        elif i > second_largest and i < first_largest:\n",
    "            second_largest = i\n",
    "    return second_largest if second_largest != float('-inf') else None\n",
    "\n",
    "result = [10, 20, 30, 40, 60, 20, 22, 97, 42, 50]\n",
    "print(second_max(result))\n",
    "print(\"-------------------\")\n",
    "#Define a function that takes a sentence as input and returns the sentence with the words reversed but not the characters.\n",
    "def reverse_words(sentence):\n",
    "    splitted_sentence = sentence.split()\n",
    "    reversed_sentence = splitted_sentence[::-1]\n",
    "    return \" \".join(reversed_sentence)\n",
    "\n",
    "print(reverse_words(\"Happy new year\"))\n",
    "print(\"-------------------\")\n"
   ]
  },
  {
   "cell_type": "code",
   "execution_count": 48,
   "id": "5fac162a",
   "metadata": {},
   "outputs": [
    {
     "name": "stdout",
     "output_type": "stream",
     "text": [
      "(50, 40, 30, 20, 10)\n",
      "20\n",
      "<class 'tuple'>\n",
      "<class 'tuple'>\n",
      "78\n",
      "21\n",
      "46\n",
      "91\n",
      "(10, 68, [12, 191, 21], 44, 65)\n",
      "(('c', 11), ('a', 23), ('d', 29), ('b', 37))\n",
      "3\n",
      "(10, 20, 30, 1, 2, 3, [10, 20])\n",
      "7\n"
     ]
    },
    {
     "data": {
      "text/plain": [
       "(7, 8, 7, 8, 7, 8)"
      ]
     },
     "execution_count": 48,
     "metadata": {},
     "output_type": "execute_result"
    }
   ],
   "source": [
    "#reverse a tuple\n",
    "tuple1 = (10, 20, 30, 40, 50)\n",
    "reversed_t = tuple1[::-1]\n",
    "print(reversed_t)\n",
    "\n",
    "#Access value 20 from the tuple\n",
    "t = (\"Orange\", [10, 20, 30], (5, 15, 25))\n",
    "print(t[1][1])\n",
    "\n",
    "#Create a tuple with single item 50\n",
    "t = tuple([50])\n",
    "t1 = (50, )\n",
    "print(type(t))\n",
    "print(type(t1))\n",
    "\n",
    "#Unpack the tuple into 4 variables\n",
    "t = (78, 21, 46, 91)\n",
    "a, b, c, d = t\n",
    "print(a)\n",
    "print(b)\n",
    "print(c)\n",
    "print(d)\n",
    "\n",
    "#Modify the tuple\n",
    "t = (10, 68, [12, 19, 21], 44, 65)\n",
    "t[2][1] = 191\n",
    "print(t)\n",
    "\n",
    "#sort tuple by second item\n",
    "t = (('a', 23),('b', 37),('c', 11), ('d',29))\n",
    "sorted_t = tuple(sorted(list(t), key=lambda x:x[1]))\n",
    "print(sorted_t)\n",
    "\n",
    "#count occurences\n",
    "t = (10, 60, 80, 40, 60, 90, 10, 60, 30)\n",
    "print(t.count(60))\n",
    "\n",
    "#concatenate tuples\n",
    "t1 = (10, 20, 30)\n",
    "t2 = (1, 2, 3,[10, 20])\n",
    "t3 = t1 + t2\n",
    "print(t3)\n",
    "print(len(t3))\n",
    "\n",
    "#repeat tuples\n",
    "t1 = (7, 8)\n",
    "t2 = t1 * 3\n",
    "t2"
   ]
  },
  {
   "cell_type": "code",
   "execution_count": 75,
   "id": "f871a9bd",
   "metadata": {
    "scrolled": true
   },
   "outputs": [
    {
     "name": "stdout",
     "output_type": "stream",
     "text": [
      "{'Ten': 10, 'Twenty': 20, 'Thirty': 30}\n",
      "{'Ten': 10, 'Twenty': 20, 'Thirty': 30, 'Fourty': 40, 'Fifty': 50}\n",
      "{'name': 'Kelly'}\n",
      "{'name': 'Kelly', 'salary': 8000}\n"
     ]
    }
   ],
   "source": [
    "#Convert two lists into a dictionary\n",
    "keys = ['Ten', 'Twenty', 'Thirty']\n",
    "values = [10, 20, 30]\n",
    "zipped = dict(zip(keys, values))\n",
    "print(zipped)\n",
    "\n",
    "#merge dictionaries\n",
    "dict1 = {'Ten': 10, 'Twenty': 20, 'Thirty': 30}\n",
    "dict2 = {'Thirty': 30, 'Fourty': 40, 'Fifty': 50}\n",
    "dict3 = {**dict1, **dict2}\n",
    "print(dict3)\n",
    "\n",
    "sample_dict = {\n",
    "    \"name\": \"Kelly\",\n",
    "    \"age\": 25,\n",
    "    \"salary\": 8000,\n",
    "    \"city\": \"New york\"}\n",
    "\n",
    "# Keys to extract\n",
    "keys = [\"name\", \"salary\"]\n",
    "new_dict = {}\n",
    "for key in keys:\n",
    "    if key in sample_dict.keys():\n",
    "        new_dict[key] = sample_dict[key]\n",
    "    print(new_dict)\n",
    "    "
   ]
  },
  {
   "cell_type": "code",
   "execution_count": 67,
   "id": "c8d293d5",
   "metadata": {},
   "outputs": [
    {
     "name": "stdout",
     "output_type": "stream",
     "text": [
      "[('This', 4), ('is', 2), ('a', 1), ('sample', 6), ('sentence', 8)]\n",
      "[(1, 1), (2, 4), (3, 9), (4, 16), (5, 25)]\n",
      "[1, 4, 27, 16, 125, 36, 343, 64, 729, 100]\n",
      "[15, 30, 45, 60, 75, 90]\n",
      "['elppa', 'ananab', 'yrrehc']\n",
      "['ppl', 'bnn', 'chrry']\n",
      "[-1, 4, 2, -5, -60, 10]\n",
      "[(1, 1), (1, 3), (1, 5), (1, 7), (1, 9), (2, 2), (2, 4), (2, 6), (2, 8), (2, 10), (3, 1), (3, 3), (3, 5), (3, 7), (3, 9), (4, 2), (4, 4), (4, 6), (4, 8), (4, 10), (5, 1), (5, 3), (5, 5), (5, 7), (5, 9), (6, 2), (6, 4), (6, 6), (6, 8), (6, 10), (7, 1), (7, 3), (7, 5), (7, 7), (7, 9), (8, 2), (8, 4), (8, 6), (8, 8), (8, 10), (9, 1), (9, 3), (9, 5), (9, 7), (9, 9), (10, 2), (10, 4), (10, 6), (10, 8), (10, 10)]\n",
      "[',', '!']\n"
     ]
    }
   ],
   "source": [
    "#Create a list of lengths of words in a sentence\n",
    "s = \"This is a sample sentence\"\n",
    "lst = [(x,len(x)) for x in s.split()]\n",
    "print(lst)\n",
    "\n",
    "\n",
    "# Generate a list of tuples containing a number and its square\n",
    "lst = [(x, x**2) for x in range(1,6)]\n",
    "print(lst)\n",
    "\n",
    "#Create a list of even numbers squared and odd numbers cubed from 1 to 10\n",
    "lst = [x**2 if x%2==0 else x**3 for x in range(1, 11)]\n",
    "print(lst)\n",
    "\n",
    "#divisible by 3 and 5\n",
    "lst = [x for x in range(1, 101) if x%3==0 and x%5==0]\n",
    "print(lst)\n",
    "\n",
    "#reverse words\n",
    "s = ['apple', 'banana', 'cherry']\n",
    "lst = [words[::-1] for words in s]\n",
    "print(lst)\n",
    "\n",
    "#Generate a list of strings with vowels removed\n",
    "strings = ['apple', 'banana', 'cherry']\n",
    "lst = [\"\".join([x for x in s if x.lower() not in \"aeiou\"]) for s in strings]\n",
    "print(lst)\n",
    "\n",
    "#Generate a list of numbers with their signs reversed\n",
    "data = [1, -4, -2, 5, 60, -10]\n",
    "lst = [-x for x in data]\n",
    "print(lst)\n",
    "\n",
    "#Generate a list of tuples containing two numbers whose sum is even\n",
    "lst = [(x,y) for x in range(1, 11) for y in range(1, 11) if (x+y) %2 == 0]\n",
    "print(lst)\n",
    "\n",
    "#Create a list of characters that are not alphanumeric from a string\n",
    "s = \"Hello, world!\"\n",
    "lst = [x for x in s.replace(\" \",\"\") if not x.isalnum()]\n",
    "print(lst)\n",
    "\n",
    "#names whos score > 85\n",
    "s = [(\"Alice\", 85), (\"Bob\", 90), (\"Charlie\", 78), (\"David\", 92), (\"Eve\", 88)]\n",
    "lst = [i.upper() for i, j in s if j > 85]\n",
    "print(lst)\n",
    "\n",
    "#reverse word only if length is of word is even\n",
    "words = [\"python\", \"java\", \"swift\", \"golang\", \"kotlin\", \"ruby\"]\n",
    "lst = [word[::-1] for word in words if len(word) % 2 == 0]\n",
    "print(lst)"
   ]
  },
  {
   "cell_type": "code",
   "execution_count": 80,
   "id": "69bca612",
   "metadata": {
    "scrolled": true
   },
   "outputs": [
    {
     "name": "stdout",
     "output_type": "stream",
     "text": [
      "{2: 4, 4: 16, 6: 36, 8: 64, 10: 100}\n",
      "{'Python': 6, 'is': 2, 'awesome': 7}\n",
      "{'D': 68, 'w': 119, 'i': 105, 'g': 103, 'h': 104, 't': 116, ' ': 32, 'S': 83, 'r': 114, 'u': 117, 'e': 101}\n",
      "{'apple': 2, 'banana': 3, 'cherry': 1}\n",
      "{'python': 'hnopty', 'programming': 'aggimmnoprr', 'language': 'aaegglnu'}\n"
     ]
    }
   ],
   "source": [
    "#Create a dictionary of even numbers as keys and their squares as values\n",
    "dic = {x:x**2 for x in range(1, 11) if x % 2 == 0}\n",
    "print(dic)\n",
    "\n",
    "#Create a dictionary of words and their lengths from a sentence\n",
    "s = \"Python is awesome\"\n",
    "dic = {x:len(x) for x in s.split()}\n",
    "print(dic)\n",
    "\n",
    "#Create a dictionary of characters and their ASCII values from a string\n",
    "s = \"Dwight Shrute\"\n",
    "dic = {x:ord(x) for x in s}\n",
    "print(dic)\n",
    "\n",
    "#Create a dictionary of words and their vowels from a list of strings\n",
    "words = ['apple', 'banana', 'cherry']\n",
    "dic = {word:sum(1 for i in word if i.lower() in \"aeiou\")for word in words}\n",
    "print(dic)\n",
    "\n",
    "#Create a dictionary of words with the letters sorted\n",
    "s = ['python', 'programming', 'language']\n",
    "dic = {i: (\"\".join(sorted(i))) for i in s}\n",
    "print(dic)\n",
    "\n",
    "#Create a dictionary of characters and their frequency in a string\n",
    "text = \"hello world\"\n",
    "dic = {char: text.count(char) for char in text.replace(\" \",\"\")}\n",
    "print(dic)\n",
    "\n",
    "#create dictionary of name and scores as average score only when avg score > 80\n",
    "students = {\n",
    "    \"Alice\": [85, 90, 78],\n",
    "    \"Bob\": [72, 88, 91],\n",
    "    \"Charlie\": [95, 100, 92],\n",
    "    \"David\": [60, 75, 70]\n",
    "}\n",
    "\n",
    "dic = {name: avg for name, scores in students.items() if (avg := round(sum(scores)/len(scores),2)) > 80}\n",
    "print(dic)"
   ]
  },
  {
   "cell_type": "markdown",
   "id": "0a2f2e1c",
   "metadata": {},
   "source": [
    "### **1️⃣ Variables, Data Types (int, float, string, boolean)**  \n",
    "💡 **Question:** Given a string containing both numbers and letters, extract all numbers, convert them to integers, and find the sum of only the prime numbers.  \n",
    "📌 **Example Input:** `\"a3b5c8d11e2\"`  \n",
    "📌 **Expected Output:** `16` (since 3, 5, and 11 are prime numbers)  \n",
    "\n",
    "---  "
   ]
  },
  {
   "cell_type": "code",
   "execution_count": 40,
   "id": "e6237133",
   "metadata": {},
   "outputs": [
    {
     "name": "stdout",
     "output_type": "stream",
     "text": [
      "[3, 5, 8, 11, 2]\n",
      "21\n"
     ]
    }
   ],
   "source": [
    "a = \"a3b5c8d11e2\"\n",
    "lst = []\n",
    "num = \"\"\n",
    "for i in a:\n",
    "    if i.isdigit():\n",
    "        num += i\n",
    "    else:\n",
    "        if num:\n",
    "            lst.append(int(num))\n",
    "            num = \"\"\n",
    "if num:\n",
    "    lst.append(int(num))\n",
    "add = 0\n",
    "for i in lst:\n",
    "    if i == 1 or i == 0:\n",
    "        continue\n",
    "    is_prime = True\n",
    "    for j in range(2, int(i ** 0.5) + 1):\n",
    "        if i%j == 0:\n",
    "            is_prime = False\n",
    "            break\n",
    "    if is_prime:\n",
    "        add += i\n",
    "print(lst)            \n",
    "print(add)"
   ]
  },
  {
   "cell_type": "markdown",
   "id": "91a6d040",
   "metadata": {},
   "source": [
    "### **2️⃣ Conditional Statements (if-else, elif)**  \n",
    "💡 **Question:** You are given three angles of a triangle. Write a program that checks whether:  \n",
    "   - The triangle is **valid** (sum of angles = 180°).  \n",
    "   - If valid, classify it as **Acute, Right, or Obtuse**.  \n",
    "\n",
    "📌 **Example Input:** `angle1 = 60, angle2 = 60, angle3 = 60`  \n",
    "📌 **Expected Output:** `\"Valid Triangle - Acute\"`  \n",
    "\n",
    "---"
   ]
  },
  {
   "cell_type": "code",
   "execution_count": 10,
   "id": "a18959fb",
   "metadata": {},
   "outputs": [
    {
     "name": "stdout",
     "output_type": "stream",
     "text": [
      "right\n"
     ]
    }
   ],
   "source": [
    "angle1 = 60\n",
    "angle2 = 30\n",
    "angle3 = 90\n",
    "\n",
    "if angle1 + angle2 + angle3 == 180:\n",
    "    if angle1 < 90 and angle2 < 90 and angle3 < 90:\n",
    "        print(\"acute\")\n",
    "    if angle1 > 90 or angle2 > 90 or angle3 > 90:\n",
    "        print(\"obtuse\")\n",
    "    if angle1 == 90 or angle2 == 90 or angle3 == 90:\n",
    "        print(\"right\")\n",
    "else:\n",
    "    print(\"Not a triangle\")"
   ]
  },
  {
   "cell_type": "markdown",
   "id": "2d92dbd3",
   "metadata": {},
   "source": [
    "💡 **Question**:  \n",
    "Write a program that checks if a given year is a leap year, century year, or a regular year. A year is a leap year if:\n",
    "- It is divisible by 4, but not divisible by 100, or\n",
    "- It is divisible by 400.\n",
    "\n",
    "📌 **Input**: 2000  \n",
    "📌 **Expected Output**: \"Leap Year\"\n",
    "\n",
    "---"
   ]
  },
  {
   "cell_type": "code",
   "execution_count": 54,
   "id": "2b01fe3e",
   "metadata": {},
   "outputs": [
    {
     "name": "stdout",
     "output_type": "stream",
     "text": [
      "Leap year\n"
     ]
    }
   ],
   "source": [
    "def check_leap_year(year):\n",
    "    if year % 400 == 0:\n",
    "        print(\"Century year\")\n",
    "    if year % 100 == 0:\n",
    "        if year % 400 == 0:\n",
    "             print(\"Leap year\")\n",
    "        else:\n",
    "            print(\"Regular year\")\n",
    "    elif year % 4 == 0:\n",
    "        print(\"Leap year\")\n",
    "    else:\n",
    "        print(\"Regular year\")\n",
    "        \n",
    "check_leap_year(2004)"
   ]
  },
  {
   "cell_type": "markdown",
   "id": "c424f77c",
   "metadata": {},
   "source": [
    "### **3️⃣ Loops (for, while)**  \n",
    "💡 **Question:** Given a number **n**, generate the **Collatz sequence** starting from **n** until it reaches **1**.  \n",
    "- If `n` is even, `n = n // 2`  \n",
    "- If `n` is odd, `n = 3 * n + 1`  \n",
    "\n",
    "📌 **Example Input:** `n = 6`  \n",
    "📌 **Expected Output:** `[6, 3, 10, 5, 16, 8, 4, 2, 1]`  \n",
    "\n",
    "---  "
   ]
  },
  {
   "cell_type": "code",
   "execution_count": 3,
   "id": "de7d3b91",
   "metadata": {},
   "outputs": [
    {
     "data": {
      "text/plain": [
       "[6, 3, 10, 5, 16, 8, 4, 2, 1]"
      ]
     },
     "execution_count": 3,
     "metadata": {},
     "output_type": "execute_result"
    }
   ],
   "source": [
    "def collatz_sequence(num):\n",
    "    lst = []\n",
    "\n",
    "    while num != 1:\n",
    "        lst.append(num)\n",
    "        \n",
    "        if num % 2 == 0:\n",
    "            num = num // 2\n",
    "        else:\n",
    "            num = (3*num) + 1\n",
    "    lst.append(1)\n",
    "    return lst\n",
    "collatz_sequence(6)"
   ]
  },
  {
   "cell_type": "markdown",
   "id": "d6f0ddaa",
   "metadata": {},
   "source": [
    "💡 **Question**:  \n",
    "Write a Python program that generates the Fibonacci sequence up to `n` terms, where `n` is an input provided by the user. The program should print the sequence and the sum of the even numbers in it.\n",
    "\n",
    "📌 **Input**: `10`  \n",
    "📌 **Expected Output**:  \n",
    "`Fibonacci Sequence: 0, 1, 1, 2, 3, 5, 8, 13, 21, 34`  \n",
    "`Sum of even Fibonacci numbers: 44`\n",
    "\n",
    "---"
   ]
  },
  {
   "cell_type": "code",
   "execution_count": 15,
   "id": "eadc7a08",
   "metadata": {},
   "outputs": [
    {
     "name": "stdout",
     "output_type": "stream",
     "text": [
      "44\n"
     ]
    }
   ],
   "source": [
    "n = 10\n",
    "first = 0\n",
    "second = 1\n",
    "next_num = second\n",
    "count = 1\n",
    "even = 0\n",
    "while count <= n:\n",
    "    result = first\n",
    "    if result % 2 == 0:\n",
    "        even += result\n",
    "    \n",
    "    next_num = first + second\n",
    "    first = second\n",
    "    second = next_num\n",
    "    count += 1\n",
    "\n",
    "print(even)"
   ]
  },
  {
   "cell_type": "markdown",
   "id": "551842bf",
   "metadata": {},
   "source": [
    "**Loop Manipulation & List Modification**  \n",
    "🔹 Given a list `L = [5, 10, 15, 20, 25]`, write a `while` loop that:  \n",
    "   - Repeatedly **removes** the last element if it's **divisible by 5**  \n",
    "   - Stops when the list is **empty or the last number is not divisible by 5**  "
   ]
  },
  {
   "cell_type": "code",
   "execution_count": 4,
   "id": "74ba57e0",
   "metadata": {},
   "outputs": [
    {
     "name": "stdout",
     "output_type": "stream",
     "text": [
      "[]\n"
     ]
    }
   ],
   "source": [
    "L = [5, 25, 15, 20, 25]\n",
    "   \n",
    "while L[-1] % 5 == 0:\n",
    "    L.pop()\n",
    "    if len(L) == 0 or L[-1] % 5 != 0:\n",
    "        break\n",
    "\n",
    "print(L)"
   ]
  },
  {
   "cell_type": "code",
   "execution_count": 11,
   "id": "8eca51c7",
   "metadata": {},
   "outputs": [
    {
     "name": "stdout",
     "output_type": "stream",
     "text": [
      "[0, 1, 1, 2, 3, 5, 8, 13, 21, 34, 55, 89, 144, 233, 377]\n"
     ]
    }
   ],
   "source": [
    "def fibo(n):\n",
    "    lst = []\n",
    "    first = 0\n",
    "    second = 1\n",
    "    count = 1\n",
    "    next_num = second\n",
    "    while count <= n:\n",
    "        lst.append(first)\n",
    "        next_num = first + second\n",
    "        first = second\n",
    "        second = next_num\n",
    "        count += 1\n",
    "    if sum(lst) < 1000:\n",
    "        print(lst)\n",
    "    else:\n",
    "        print(\"exceeded 1000 sum\")\n",
    "    \n",
    "fibo(15)"
   ]
  },
  {
   "cell_type": "markdown",
   "id": "e7dbc67a",
   "metadata": {},
   "source": [
    "### **5️⃣ Lists, Tuples, Sets, Dictionaries**  \n",
    "💡 **Question:** Given a **list of words**, group all anagrams together and return a dictionary where keys are sorted words and values are lists of anagrams.  \n",
    "\n",
    "📌 **Example Input:** `[\"eat\", \"tea\", \"tan\", \"ate\", \"nat\", \"bat\"]`  \n",
    "📌 **Expected Output:**  \n",
    "```python\n",
    "{\n",
    "    \"aet\": [\"eat\", \"tea\", \"ate\"],  \n",
    "    \"ant\": [\"tan\", \"nat\"],  \n",
    "    \"abt\": [\"bat\"]\n",
    "}\n",
    "```\n",
    "\n",
    "---"
   ]
  },
  {
   "cell_type": "code",
   "execution_count": 14,
   "id": "2926dfc2",
   "metadata": {},
   "outputs": [
    {
     "name": "stdout",
     "output_type": "stream",
     "text": [
      "{'aet': ['eat', 'tea', 'ate'], 'ant': ['tan', 'nat'], 'abt': ['bat']}\n"
     ]
    }
   ],
   "source": [
    "words = [\"eat\", \"tea\", \"tan\", \"ate\", \"nat\", \"bat\"]\n",
    "anagrams = {}\n",
    "for word in words:\n",
    "    sorted_words = \"\".join(sorted(word))\n",
    "    if sorted_words in anagrams.keys():\n",
    "        anagrams[sorted_words].append(word)\n",
    "    else:\n",
    "        anagrams[sorted_words] = [word]\n",
    "    \n",
    "print(anagrams)"
   ]
  },
  {
   "cell_type": "markdown",
   "id": "587be701",
   "metadata": {},
   "source": [
    "💡 **Question**:  \n",
    "Write a Python program that takes a list of tuples where each tuple consists of two elements: the name of a city and its population. The program should sort the list based on population (from highest to lowest) and return the sorted list.\n",
    "\n",
    "📌 **Input**: `[(\"New York\", 8175133), (\"Los Angeles\", 2655873), (\"Chicago\", 5497215)]`  \n",
    "📌 **Expected Output**:  \n",
    "`[(\"New York\", 8175133), (\"Los Angeles\", 5497165), (\"Chicago\", 2655873)]`\n",
    "\n",
    "---"
   ]
  },
  {
   "cell_type": "code",
   "execution_count": 8,
   "id": "868ff82c",
   "metadata": {},
   "outputs": [
    {
     "name": "stdout",
     "output_type": "stream",
     "text": [
      "[('New York', 8175133), ('Chicago', 5497165), ('Los Angeles', 2655873)]\n"
     ]
    }
   ],
   "source": [
    "data = [(\"New York\", 8175133), (\"Los Angeles\", 2655873), (\"Chicago\", 5497165)]\n",
    "data.sort(key=lambda x: x[1], reverse=True)\n",
    "print(data)"
   ]
  },
  {
   "cell_type": "markdown",
   "id": "1de5ec68",
   "metadata": {},
   "source": [
    "### **6️⃣ List/Dict Comprehensions**  \n",
    "💡 **Question:** Given a dictionary of students and their scores, create a **new dictionary** containing only the students whose **average score is in the top 50%** using dictionary comprehension.  \n",
    "\n",
    "📌 **Example Input:**  \n",
    "```python\n",
    "students = {\n",
    "    \"Alice\": [85, 90, 78],\n",
    "    \"Bob\": [72, 88, 91],\n",
    "    \"Charlie\": [95, 100, 92],\n",
    "    \"David\": [60, 75, 70]\n",
    "}\n",
    "```\n",
    "📌 **Expected Output:**  \n",
    "```python\n",
    "{\"Charlie\": 95.67, \"Alice\": 84.33}\n",
    "```\n",
    "(Only top 50% students are included)  \n",
    "\n",
    "---"
   ]
  },
  {
   "cell_type": "code",
   "execution_count": 18,
   "id": "aabe8c62",
   "metadata": {},
   "outputs": [
    {
     "name": "stdout",
     "output_type": "stream",
     "text": [
      "{'Alice': [84.33], 'Charlie': [95.67]}\n"
     ]
    }
   ],
   "source": [
    "students = {\n",
    "    \"Alice\": [85, 90, 78],\n",
    "    \"Bob\": [72, 88, 91],\n",
    "    \"Charlie\": [95, 100, 92],\n",
    "    \"David\": [60, 75, 70]\n",
    "}\n",
    "\n",
    "average_sc = {}\n",
    "top_students = {}\n",
    "for student, score in students.items():\n",
    "    average_score = round(sum(score)/len(score),2)\n",
    "    average_sc[student] = average_score\n",
    "    \n",
    "sorted_avg = sorted(average_sc.values(), reverse=True)\n",
    "\n",
    "if len(sorted_avg) % 2 == 0:\n",
    "    first = int(len(sorted_avg)/2)\n",
    "    second = int(len(sorted_avg)/2) - 1\n",
    "    midpoint = (sorted_avg[first] + sorted_avg[second])/2\n",
    "else:\n",
    "    middle = int(len(sorted_avg)/2)\n",
    "    midpoint = sorted_avg(middle)\n",
    "        \n",
    "    \n",
    "for i, j in average_sc.items():\n",
    "    if j >= midpoint:\n",
    "        top_students[i] = [j]\n",
    "            \n",
    "print(top_students)"
   ]
  },
  {
   "cell_type": "markdown",
   "id": "cfae24f2",
   "metadata": {},
   "source": [
    "You have a list of integers. Write a one-liner that creates a dictionary where the keys are the integers, and the values are the square of each integer, but only include the integers that are greater than 10 and less than 50.\n",
    "\n",
    "📌 **Input**: `[5, 12, 7, 32, 3, 22, 40]`  \n",
    "📌 **Expected Output**:  \n",
    "`{12: 144, 32: 1024, 22: 484, 40: 1600}`\n",
    "\n",
    "---"
   ]
  },
  {
   "cell_type": "code",
   "execution_count": 15,
   "id": "154b24af",
   "metadata": {},
   "outputs": [
    {
     "name": "stdout",
     "output_type": "stream",
     "text": [
      "{12: 144, 32: 1024, 22: 484, 40: 1600}\n"
     ]
    }
   ],
   "source": [
    "lst = [5, 12, 7, 32, 3, 22, 40]\n",
    "filtered = [x for x in lst if x > 10 and x < 50]\n",
    "dic = {}\n",
    "for i in filtered:\n",
    "    dic[i] = i**2\n",
    "print(dic)"
   ]
  },
  {
   "cell_type": "code",
   "execution_count": 21,
   "id": "6ffa5299",
   "metadata": {},
   "outputs": [
    {
     "name": "stdout",
     "output_type": "stream",
     "text": [
      "[12, 6, 3, 10, 5, 16, 8, 4, 2, 1]\n"
     ]
    }
   ],
   "source": [
    "n = 12\n",
    "lst = []\n",
    "while n != 1:\n",
    "    lst.append(n)\n",
    "    if n % 2 == 0:\n",
    "        n = n // 2\n",
    "    else:\n",
    "        n = n * 3 + 1\n",
    "lst.append(1)\n",
    "print((lst))"
   ]
  },
  {
   "cell_type": "code",
   "execution_count": 24,
   "id": "0a7e57be",
   "metadata": {},
   "outputs": [
    {
     "name": "stdout",
     "output_type": "stream",
     "text": [
      "[3, 15, 8, 110, 22]\n"
     ]
    }
   ],
   "source": [
    "strr = \"a3b15c8d110e22\"\n",
    "lst = []\n",
    "num = \"\"\n",
    "for i in strr:\n",
    "    if i.isdigit():\n",
    "        num += i\n",
    "    else:\n",
    "        if num:\n",
    "            lst.append(int(num))\n",
    "            num = \"\"\n",
    "if num:\n",
    "    lst.append(int(num))\n",
    "    \n",
    "print(lst)"
   ]
  },
  {
   "cell_type": "code",
   "execution_count": 4,
   "id": "1438c82f",
   "metadata": {},
   "outputs": [
    {
     "name": "stdout",
     "output_type": "stream",
     "text": [
      "{'Low': ['Mouse', 'USB Cable'], 'medium': ['Keyboard', 'Monitor'], 'high': ['Laptop']}\n"
     ]
    }
   ],
   "source": [
    "items = [(\"Laptop\", 1000), (\"Mouse\", 25), (\"Keyboard\", 150), (\"Monitor\", 200), (\"USB Cable\", 10)]\n",
    "dic = {\"Low\": [], \"medium\": [], \"high\": []}\n",
    "for item, price in items:\n",
    "    if price < 50:\n",
    "        if item in dic['Low']:\n",
    "            continue\n",
    "        else:\n",
    "            dic['Low'].append(item)\n",
    "    elif price >= 50 and price <= 200:\n",
    "        if item in dic['medium']:\n",
    "            continue\n",
    "        else:\n",
    "            dic[\"medium\"].append(item)\n",
    "    elif price > 200:\n",
    "        if item in dic['high']:\n",
    "            continue\n",
    "        else:\n",
    "            dic[\"high\"].append(item)\n",
    "print(dic)"
   ]
  },
  {
   "cell_type": "code",
   "execution_count": 5,
   "id": "f9ade488",
   "metadata": {},
   "outputs": [
    {
     "data": {
      "text/plain": [
       "[('Bob', 92), ('Alice', 85), ('Charlie', 85), ('David', 76)]"
      ]
     },
     "execution_count": 5,
     "metadata": {},
     "output_type": "execute_result"
    }
   ],
   "source": [
    "students = [(\"Alice\", 85), (\"Bob\", 92), (\"Charlie\", 85), (\"David\", 76)]\n",
    "\n",
    "result = sorted(sorted(students, key= lambda x:x[0]), key = lambda x: x[1], reverse = True)\n",
    "result"
   ]
  },
  {
   "cell_type": "code",
   "execution_count": 43,
   "id": "f17c22e6",
   "metadata": {},
   "outputs": [
    {
     "name": "stdout",
     "output_type": "stream",
     "text": [
      "34 = 3 + 31\n",
      "34 = 5 + 29\n",
      "34 = 11 + 23\n",
      "34 = 17 + 17\n"
     ]
    }
   ],
   "source": [
    "def helper(n):\n",
    "    if n < 2:\n",
    "        return False\n",
    "    for i in range(2, int(n ** 0.5) + 1):\n",
    "        if n % i == 0:\n",
    "            return False\n",
    "    return True\n",
    "\n",
    "            \n",
    "n = 34\n",
    "for i in range(2, int(n/2) + 1):\n",
    "        if helper(i) and helper(n - i):\n",
    "            print(n ,\"=\", i ,\"+\", n - i)"
   ]
  },
  {
   "cell_type": "markdown",
   "id": "ef104f66",
   "metadata": {},
   "source": [
    "# Text Based Student Management System"
   ]
  },
  {
   "cell_type": "code",
   "execution_count": 11,
   "id": "47ccad8c",
   "metadata": {},
   "outputs": [
    {
     "name": "stdout",
     "output_type": "stream",
     "text": [
      "\n",
      "Student Management System\n",
      "1. Add Student\n",
      "2. View Students\n",
      "3. Update Student\n",
      "4. Delete Student\n",
      "5. Exit\n",
      "Enter your choice: 1\n",
      "Enter Student ID: 101\n",
      "Enter Student Name: Alice\n",
      "Enter Student Age: 19\n",
      "Enter Subjects (comma-separated): Java, C++\n",
      "Student Alice added Successfully\n",
      "\n",
      "Student Management System\n",
      "1. Add Student\n",
      "2. View Students\n",
      "3. Update Student\n",
      "4. Delete Student\n",
      "5. Exit\n",
      "Enter your choice: 3\n",
      "Enter Student ID for modification: 101\n",
      "What do you want to update?\n",
      "1. Name\n",
      "2. Age\n",
      "3. Subjects\n",
      "Enter choice: 3\n",
      "To change all subjects type Yes else NoNo\n",
      "Enter additional subjects (comma-separated): Operating System\n",
      "Student details modified Successfully\n",
      "\n",
      "Student Management System\n",
      "1. Add Student\n",
      "2. View Students\n",
      "3. Update Student\n",
      "4. Delete Student\n",
      "5. Exit\n",
      "Enter your choice: 2\n",
      "ID: 101, Name: Alice, Age: 19, Subjects: Java, C++, Operating System\n",
      "\n",
      "Student Management System\n",
      "1. Add Student\n",
      "2. View Students\n",
      "3. Update Student\n",
      "4. Delete Student\n",
      "5. Exit\n",
      "Enter your choice: 5\n",
      "Exiting program...\n"
     ]
    }
   ],
   "source": [
    "students = {}\n",
    "def add_student():\n",
    "    student_id = int(input(\"Enter Student ID: \"))\n",
    "    if student_id in students:\n",
    "        print(\"Student already exists in system\")\n",
    "        return\n",
    "    name = input(\"Enter Student Name: \")\n",
    "    age = int(input(\"Enter Student Age: \"))\n",
    "    subjects = input(\"Enter Subjects (comma-separated): \").split(\",\")\n",
    "    \n",
    "    students[student_id] = {\"name\" : name, \"age\" : age, \"subjects\" : [subs.strip() for subs in subjects]}\n",
    "    print(f\"Student {name} added Successfully\")\n",
    "    \n",
    "def view_students():\n",
    "    if not students:\n",
    "        print(\"No student found\")\n",
    "        return\n",
    "    for student_id, details in students.items():\n",
    "        print(f\"ID: {student_id}, Name: {details['name']}, Age: {details['age']}, Subjects: {', '.join(details['subjects'])}\")\n",
    "        \n",
    "def update_student():\n",
    "    student_id = int(input(\"Enter Student ID for modification: \"))\n",
    "    if student_id not in students:\n",
    "        print(\"Student not found\")\n",
    "        return\n",
    "    print(\"What do you want to update?\")\n",
    "    print(\"1. Name\\n2. Age\\n3. Subjects\")\n",
    "    choice = int(input(\"Enter choice: \"))\n",
    "    \n",
    "    if choice == 1:\n",
    "        students[student_id]['name'] = input(\"Enter new name: \")\n",
    "        \n",
    "    elif choice == 2:\n",
    "        students[student_id]['age'] = input(\"Enter new age: \")\n",
    "\n",
    "    elif choice == 3:\n",
    "        all_change = input(\"To change all subjects type Yes else No\")\n",
    "        if all_change == \"Yes\":\n",
    "            subjects_input = input(\"Enter Subjects (comma-separated): \").split(\",\")\n",
    "            students[student_id]['subjects'] = [subs.strip() for subs in subjects_input]\n",
    "        else:\n",
    "            subjects_input = input(\"Enter additional subjects (comma-separated): \").split(\",\")\n",
    "            students[student_id]['subjects'].extend([subs.strip() for subs in subjects_input])\n",
    "            \n",
    "    else:\n",
    "        print(\"Invalid Choice\")\n",
    "        \n",
    "    print(\"Student details modified Successfully\")\n",
    "    \n",
    "def delete_student():\n",
    "    student_id = int(input(\"Enter Student ID for deletion: \"))\n",
    "    if student_id in students:\n",
    "        del students[student_id]\n",
    "    else:\n",
    "        print(\"Student not found\")\n",
    "        return\n",
    "    print(\"Student Info Deleted Successfully\")\n",
    "    \n",
    "while True:\n",
    "    print(\"\\nStudent Management System\")\n",
    "    print(\"1. Add Student\")\n",
    "    print(\"2. View Students\")\n",
    "    print(\"3. Update Student\")\n",
    "    print(\"4. Delete Student\")\n",
    "    print(\"5. Exit\")\n",
    "\n",
    "    choice = input(\"Enter your choice: \")\n",
    "\n",
    "    if choice == \"1\":\n",
    "        add_student()\n",
    "    elif choice == \"2\":\n",
    "        view_students()\n",
    "    elif choice == \"3\":\n",
    "        update_student()\n",
    "    elif choice == \"4\":\n",
    "        delete_student()\n",
    "    elif choice == \"5\":\n",
    "        print(\"Exiting program...\")\n",
    "        break\n",
    "    else:\n",
    "        print(\"Invalid choice! Please enter a number between 1 and 5.\")"
   ]
  },
  {
   "cell_type": "code",
   "execution_count": 13,
   "id": "e1e42bce",
   "metadata": {},
   "outputs": [
    {
     "name": "stdout",
     "output_type": "stream",
     "text": [
      "\n",
      "Library Management System\n",
      "1. Add Book\n",
      "2. View Books\n",
      "3. Borrow Book\n",
      "4. Return Book\n",
      "5. Delete Book\n",
      "6. Exit\n",
      "Enter your choice: 1\n",
      "Enter book ID: 1001\n",
      "Enter Book Title: Interstellar\n",
      "Enter Author of the Book: Christopher Nolan\n",
      "Enter Genre of the Book: Science Fiction\n",
      "Enter availibility of Book as Yes/No: Yes\n",
      "Book Added successfully\n",
      "\n",
      "Library Management System\n",
      "1. Add Book\n",
      "2. View Books\n",
      "3. Borrow Book\n",
      "4. Return Book\n",
      "5. Delete Book\n",
      "6. Exit\n",
      "Enter your choice: 3\n",
      "Enter book ID to borrow: 1001\n",
      "Book can be borrowed\n",
      "Enter user ID: 225\n",
      "\n",
      "Library Management System\n",
      "1. Add Book\n",
      "2. View Books\n",
      "3. Borrow Book\n",
      "4. Return Book\n",
      "5. Delete Book\n",
      "6. Exit\n",
      "Enter your choice: 2\n",
      "\n",
      "Available Books:\n",
      "book_id        title            author           genre availability user borrowed_date returned_date\n",
      "   1001 Interstellar Christopher Nolan Science Fiction           No  225    2025-02-14          None\n",
      "\n",
      "Library Management System\n",
      "1. Add Book\n",
      "2. View Books\n",
      "3. Borrow Book\n",
      "4. Return Book\n",
      "5. Delete Book\n",
      "6. Exit\n",
      "Enter your choice: 4\n",
      "Enter user ID: 225\n",
      "Book returned successfully\n",
      "\n",
      "Library Management System\n",
      "1. Add Book\n",
      "2. View Books\n",
      "3. Borrow Book\n",
      "4. Return Book\n",
      "5. Delete Book\n",
      "6. Exit\n",
      "Enter your choice: 2\n",
      "\n",
      "Available Books:\n",
      "book_id        title            author           genre availability user borrowed_date returned_date\n",
      "   1001 Interstellar Christopher Nolan Science Fiction          Yes None    2025-02-14    2025-02-14\n",
      "\n",
      "Library Management System\n",
      "1. Add Book\n",
      "2. View Books\n",
      "3. Borrow Book\n",
      "4. Return Book\n",
      "5. Delete Book\n",
      "6. Exit\n",
      "Enter your choice: 6\n",
      "Exiting program...\n"
     ]
    }
   ],
   "source": [
    "import pandas as pd\n",
    "from datetime import date\n",
    "books_df = pd.DataFrame(columns=['book_id', 'title', 'author', 'genre', 'availability', 'user','borrowed_date', 'returned_date'])\n",
    "\n",
    "\n",
    "def add_book():\n",
    "    global books_df\n",
    "    book_id = int(input(\"Enter book ID: \"))\n",
    "    if book_id in books_df[\"book_id\"].values:\n",
    "        print(\"Book already exists\")\n",
    "        return\n",
    "    title = input(\"Enter Book Title: \")\n",
    "    author = input(\"Enter Author of the Book: \")\n",
    "    genre = input(\"Enter Genre of the Book: \")\n",
    "    availability = input(\"Enter availibility of Book as Yes/No: \")\n",
    "    \n",
    "    new_book = pd.DataFrame([[book_id, title, author, genre, availability, None, None, None]], \n",
    "                            columns=['book_id', 'title', 'author', 'genre', 'availability','user','borrowed_date', 'returned_date'])\n",
    "    \n",
    "    books_df = pd.concat([books_df, new_book], ignore_index=True)\n",
    "    \n",
    "    print(\"Book Added successfully\")\n",
    "\n",
    "def view_books():\n",
    "    if books_df.empty:\n",
    "        print(\"No result Found\")\n",
    "    else:\n",
    "        print(\"\\nAvailable Books:\")\n",
    "        print(books_df.to_string(index=False)) \n",
    "        \n",
    "def borrow_book():\n",
    "    global books_df\n",
    "    book_id = int(input(\"Enter book ID to borrow: \"))\n",
    "    if book_id in books_df['book_id'].values:\n",
    "        if books_df.loc[books_df['book_id'] == book_id, 'availability'].values[0] == \"Yes\":\n",
    "            print(\"Book can be borrowed\")\n",
    "            user = int(input(\"Enter user ID: \"))\n",
    "            books_df.loc[books_df['book_id'] == book_id, 'user'] = user\n",
    "            books_df.loc[books_df['book_id'] == book_id, 'borrowed_date'] = str(date.today())\n",
    "            books_df.loc[books_df['book_id'] == book_id, 'availability'] = \"No\"\n",
    "            \n",
    "        else:\n",
    "            print(\"Book not available to borrow\")\n",
    "    else:\n",
    "        print(\"Book ID not found\")\n",
    "        \n",
    "def return_book():\n",
    "    global books_df\n",
    "    user_id = int(input(\"Enter user ID: \"))\n",
    "    if user_id in books_df['user'].values:\n",
    "        books_df.loc[books_df['user'] == user_id, 'returned_date'] = str(date.today())\n",
    "        books_df.loc[books_df['user'] == user_id, 'availability'] = \"Yes\"\n",
    "        books_df.loc[books_df['user'] == user_id, 'user'] = None\n",
    "        books_df.loc[books_df['user'] == user_id, 'borrowed_date'] = None\n",
    "\n",
    "        print(\"Book returned successfully\")\n",
    "    else:\n",
    "        print(\"No borrowed book found for this user\")\n",
    "        \n",
    "        \n",
    "def delete_book():\n",
    "    global books_df\n",
    "    book_id_to_delete = int(input(\"Enter book_id for deletion: \"))\n",
    "    if book_id_to_delete in books_df['book_id'].values:\n",
    "        books_df = books_df[books_df[book_id] != book_id_to_delete]\n",
    "        print(\"Book deleted successfully\")\n",
    "    else:\n",
    "        print(\"No book found\")\n",
    "        \n",
    "while True:\n",
    "    print(\"\\nLibrary Management System\")\n",
    "    print(\"1. Add Book\")\n",
    "    print(\"2. View Books\")\n",
    "    print(\"3. Borrow Book\")\n",
    "    print(\"4. Return Book\")\n",
    "    print(\"5. Delete Book\")\n",
    "    print(\"6. Exit\")\n",
    "\n",
    "    choice = input(\"Enter your choice: \")\n",
    "\n",
    "    if choice == \"1\":\n",
    "        add_book()\n",
    "    elif choice == \"2\":\n",
    "        view_books()\n",
    "    elif choice == \"3\":\n",
    "        borrow_book()\n",
    "    elif choice == \"4\":\n",
    "        return_book()\n",
    "    elif choice == \"5\":\n",
    "        delete_book()\n",
    "    elif choice == \"6\":\n",
    "        print(\"Exiting program...\")\n",
    "        break\n",
    "    else:\n",
    "        print(\"Invalid choice! Please enter a number between 1 and 5.\")        "
   ]
  },
  {
   "cell_type": "markdown",
   "id": "788c4a85",
   "metadata": {},
   "source": [
    "# Hospital Management System 🏥"
   ]
  },
  {
   "cell_type": "code",
   "execution_count": 10,
   "id": "f9330e79",
   "metadata": {},
   "outputs": [
    {
     "name": "stdout",
     "output_type": "stream",
     "text": [
      "\n",
      "Hospital Management System\n",
      "1. Register Patient\n",
      "2. View Patients\n",
      "3. Update patient details\n",
      "4. Add discharge date\n",
      "5. Save and Exit\n",
      "Enter your choice: 1\n",
      "Enter patient name: jacob\n",
      "Enter patient age: 34\n",
      "Enter patient phone number: 4786413164\n",
      "Enter patient address: 21 street\n",
      "Enter patient diagnosis: migrane\n",
      "\n",
      "Hospital Management System\n",
      "1. Register Patient\n",
      "2. View Patients\n",
      "3. Update patient details\n",
      "4. Add discharge date\n",
      "5. Save and Exit\n",
      "Enter your choice: 5\n",
      "Saving data and exiting program...\n"
     ]
    }
   ],
   "source": [
    "import pandas as pd\n",
    "import os\n",
    "\n",
    "file_path = \"C:\\\\Users\\\\Mubasshira\\\\Downloads\\\\patient_details.csv\"\n",
    "\n",
    "if os.path.exists(file_path):\n",
    "    patient_details = pd.read_csv(file_path)\n",
    "else:\n",
    "    patient_details = pd.DataFrame(columns=[\"patient_id\",\"name\", \"age\", \"phone_number\", \"address\", \"diagnosis\", \"assigned_doctor\", \"discharge_date\"])\n",
    "    \n",
    "if not patient_details.empty:\n",
    "    patient_details[\"patient_id\"] = patient_details[\"patient_id\"].astype(int)\n",
    "    \n",
    "def register_patient():\n",
    "    global patient_details\n",
    "    name = input(\"Enter patient name: \")\n",
    "    age = int(input(\"Enter patient age: \"))\n",
    "    phone_number = input(\"Enter patient phone number: \")\n",
    "    address = input(\"Enter patient address: \")\n",
    "    diagnosis = input(\"Enter patient diagnosis: \")\n",
    "    if not patient_details[(patient_details[\"name\"] == name) & (patient_details[\"age\"] == age)].empty:\n",
    "        print(\"Patient Already exists\")\n",
    "        return\n",
    "    \n",
    "    new_patient_id = 1 if patient_details.empty else int(patient_details[\"patient_id\"].max()) + 1\n",
    "    \n",
    "    new_patient = pd.DataFrame([[new_patient_id, name, age, phone_number, address, diagnosis, None, None]],\n",
    "                              columns=[\"patient_id\",\"name\", \"age\", \"phone_number\", \"address\", \"diagnosis\", \"assigned_doctor\", \"discharge_date\"])\n",
    "    #new_patient.insert(0, 'patient_id', range(patient_details['patient_id'].max() + 1, patient_details['patient_id'].max() + 1 + len(new_patient)))\n",
    "    \n",
    "    patient_details = pd.concat([patient_details, new_patient], ignore_index=True)\n",
    "\n",
    "    \n",
    "def view_patients():\n",
    "    global patient_details\n",
    "    if patient_details.empty:\n",
    "        print(\"No result Found\")\n",
    "    else:\n",
    "        print(\"\\nPatient Details:\")\n",
    "        print(patient_details.to_string(index=False))\n",
    "        \n",
    "def update_patient_details():\n",
    "    global patient_details\n",
    "    name = input(\"Enter patient name: \")\n",
    "    age = int(input(\"Enter patient age: \"))\n",
    "    mask = (patient_details[\"name\"] == name) & (patient_details[\"age\"] == age)\n",
    "\n",
    "    if patient_details.loc[mask].empty:\n",
    "        print(\"Patient does not exist.\")\n",
    "        return\n",
    "    print(\"What do you want to update?\")\n",
    "    print(\"1. Name\\n2. age\\n3. phone_number\\n4. address\\n5. diagnosis\\n6. assigned_doctor\")\n",
    "    choice = int(input(\"Enter your choice: \"))\n",
    "    \n",
    "    if choice == 1:\n",
    "        new_name = input(\"Enter new name: \")\n",
    "        patient_details.loc[mask, 'name'] = new_name\n",
    "        print(\"Patient name updated successfully!\")\n",
    "        \n",
    "    elif choice == 2:\n",
    "        new_age = int(input(\"Enter new age: \"))\n",
    "        patient_details.loc[mask, 'age'] = new_age\n",
    "        print(\"Patient age updated successfully!\")\n",
    "        \n",
    "    elif choice == 3:\n",
    "        new_phone_number = input(\"Enter new phone number: \")\n",
    "        patient_details.loc[mask, 'phone_number'] = new_phone_number\n",
    "        print(\"Patient phone number updated successfully!\")\n",
    "    \n",
    "    elif choice == 4:\n",
    "        new_address = input(\"Enter new address: \")\n",
    "        patient_details.loc[mask, 'address'] = new_address\n",
    "        print(\"Patient address updated successfully!\")\n",
    "        \n",
    "    elif choice == 5:\n",
    "        new_diagnosis = input(\"Enter new diagnosis: \")\n",
    "        patient_details.loc[mask, 'diagnosis'] = new_diagnosis\n",
    "        print(\"Patient diagnosis updated successfully!\")\n",
    "        \n",
    "    elif choice == 6:\n",
    "        new_assigned_doctor = input(\"Enter new assigned_doctor: \")\n",
    "        patient_details.loc[mask, 'assigned_doctor'] = new_assigned_doctor\n",
    "        print(\"Patient assigned_doctor updated successfully!\")   \n",
    "        \n",
    "    elif choice == 7:\n",
    "        new_discharge_date = input(\"Enter new discharge date (YYYY-MM-DD): \")\n",
    "        patient_details.loc[mask, 'discharge_date'] = new_discharge_date\n",
    "        print(\"Patient discharge_date updated successfully!\")\n",
    "        \n",
    "    else:\n",
    "        print(\"Incorrect! Choose between 1 - 7\")\n",
    "        \n",
    "from datetime import date\n",
    "def discharge_patient():\n",
    "    global patient_details\n",
    "    name = input(\"Enter patient name: \")\n",
    "    age = int(input(\"Enter patient age: \"))\n",
    "    mask = (patient_details[\"name\"] == name) & (patient_details[\"age\"] == age)\n",
    "\n",
    "    if patient_details[mask].empty:\n",
    "        print(\"Patient does not exist.\")\n",
    "        return\n",
    "    patient_details.loc[mask, 'discharge_date'] = date.today().strftime(\"%Y-%m-%d\")\n",
    "    print(\"Discharge details updated Successfully!\")\n",
    "    \n",
    "while True:\n",
    "    print(\"\\nHospital Management System\")\n",
    "    print(\"1. Register Patient\")\n",
    "    print(\"2. View Patients\")\n",
    "    print(\"3. Update patient details\")\n",
    "    print(\"4. Add discharge date\")\n",
    "    print(\"5. Save and Exit\")\n",
    "\n",
    "    choice = input(\"Enter your choice: \")\n",
    "\n",
    "    if choice == \"1\":\n",
    "        register_patient()\n",
    "    elif choice == \"2\":\n",
    "        view_patients()\n",
    "    elif choice == \"3\":\n",
    "        update_patient_details()\n",
    "    elif choice == \"4\":\n",
    "        discharge_patient()\n",
    "    elif choice == \"5\":\n",
    "        print(\"Saving data and exiting program...\")\n",
    "        patient_details.to_csv(file_path, index=False)\n",
    "        break\n",
    "    else:\n",
    "        print(\"Invalid choice! Please enter a number between 1 and 5.\")       \n",
    "    "
   ]
  },
  {
   "cell_type": "code",
   "execution_count": null,
   "id": "e70fd110",
   "metadata": {},
   "outputs": [],
   "source": []
  }
 ],
 "metadata": {
  "kernelspec": {
   "display_name": "Python 3 (ipykernel)",
   "language": "python",
   "name": "python3"
  },
  "language_info": {
   "codemirror_mode": {
    "name": "ipython",
    "version": 3
   },
   "file_extension": ".py",
   "mimetype": "text/x-python",
   "name": "python",
   "nbconvert_exporter": "python",
   "pygments_lexer": "ipython3",
   "version": "3.11.5"
  }
 },
 "nbformat": 4,
 "nbformat_minor": 5
}
